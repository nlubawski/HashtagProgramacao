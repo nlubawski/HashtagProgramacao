{
 "cells": [
  {
   "cell_type": "markdown",
   "metadata": {},
   "source": [
    "# Desafio: \n",
    "\n",
    "Você trabalha em uma grande empresa de Cartão de Crédito e o diretor da empresa percebeu que o número de clientes que cancelam seus cartões tem aumentado significativamente, causando prejuízos enormes para a empresa\n",
    "\n",
    "O que fazer para evitar isso? Como saber as pessoas que têm maior tendência a cancelar o cartão?\n",
    "\n",
    "# O que temos:\n",
    "\n",
    "Temos 1 base de dados com informações dos clientes, tanto clientes atuais quanto clientes que cancelaram o cartão\n",
    "\n",
    "Download da Base de Dados: https://drive.google.com/file/d/1c0F7BDwvOZ9NnIj3tUANuvmp_jRYsh31/view?usp=sharing\n",
    "\n",
    "Referência: https://www.kaggle.com/sakshigoyal7/credit-card-customers"
   ]
  },
  {
   "cell_type": "markdown",
   "metadata": {},
   "source": [
    "Passo 1: Importar a base de dados\n",
    "\n",
    "Passo 2: Visualizar a base de dados e ver se precisa de algum \"tratamento\"\n",
    "  - Excluir/Corrigir linhas e valores vazios\n",
    "  - Ajeitar colunas importadas da forma errada (ex: Moedas, caso haja problema)\n",
    "  - Excluir colunas inúteis\n",
    "\n",
    "Passo 3: Analisar a base de dados de acordo com o que queremos descobrir\n",
    "  - Queremos descobrir as principais causas de cancelamento ou quem são os clientes com maior chance de cancelar o cartão, para podermos criar um plano de ação"
   ]
  },
  {
   "cell_type": "code",
   "execution_count": null,
   "metadata": {},
   "outputs": [],
   "source": [
    "import pandas as pd"
   ]
  },
  {
   "cell_type": "code",
   "execution_count": null,
   "metadata": {},
   "outputs": [],
   "source": [
    "tabela = rea"
   ]
  }
 ],
 "metadata": {
  "kernelspec": {
   "display_name": "Python 3",
   "language": "python",
   "name": "python3"
  },
  "language_info": {
   "codemirror_mode": {
    "name": "ipython",
    "version": 3
   },
   "file_extension": ".py",
   "mimetype": "text/x-python",
   "name": "python",
   "nbconvert_exporter": "python",
   "pygments_lexer": "ipython3",
   "version": "3.8.5"
  }
 },
 "nbformat": 4,
 "nbformat_minor": 4
}
